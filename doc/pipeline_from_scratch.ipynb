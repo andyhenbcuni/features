{
 "cells": [
  {
   "cell_type": "markdown",
   "metadata": {},
   "source": [
    "# Creating a new pipeline from scratch"
   ]
  },
  {
   "cell_type": "markdown",
   "metadata": {},
   "source": [
    "## Overview\n",
    "\n",
    "In algo features, all pipelines are built using the `pipelines` library and the `actions` SDK.\n",
    "\n",
    "A `pipeline` consists of 3 components:\n",
    "1. The `pipeline` name.\n",
    "2. `Tasks` that the pipeline will run.\n",
    "3. An optional `trigger` for the pipeline."
   ]
  },
  {
   "cell_type": "markdown",
   "metadata": {},
   "source": [
    "## Creating a pipeline\n",
    "\n",
    "To create a pipeline, import and initialize the pipeline object from the pipelines library as seen below.\n",
    "\n",
    "Once a pipeline has been created, you can show it using `.show()` and run it using `.run()`. In this case our pipeline has no tasks, so there is nothing to show or run."
   ]
  },
  {
   "cell_type": "code",
   "execution_count": 1,
   "metadata": {},
   "outputs": [],
   "source": [
    "from src.pipelines import pipeline\n",
    "\n",
    "example_pipeline = pipeline.Pipeline(name='example_pipeline')\n"
   ]
  },
  {
   "cell_type": "code",
   "execution_count": 2,
   "metadata": {},
   "outputs": [
    {
     "name": "stdout",
     "output_type": "stream",
     "text": [
      "Nothing to show! No tasks have been added to the pipeline.\n",
      "\tTry adding tasks to the pipeline using pipeline.add_task()\n"
     ]
    },
    {
     "data": {
      "text/html": [
       "\n",
       "        <div class=\"mermaid-cc52d563-ff7f-4a0d-844b-13e86ca5995c\"></div>\n",
       "        <script type=\"module\">\n",
       "            import mermaid from 'https://cdn.jsdelivr.net/npm/mermaid@10.1.0/+esm'\n",
       "            const graphDefinition = '---\\ntitle: example_pipeline\\n---\\ngraph LR\\n';\n",
       "            const element = document.querySelector('.mermaid-cc52d563-ff7f-4a0d-844b-13e86ca5995c');\n",
       "            const { svg } = await mermaid.render('graphDiv-cc52d563-ff7f-4a0d-844b-13e86ca5995c', graphDefinition);\n",
       "            element.innerHTML = svg;\n",
       "        </script>\n",
       "        "
      ],
      "text/plain": [
       "<src.pipelines.utils.RenderMermaid at 0x11285b460>"
      ]
     },
     "execution_count": 2,
     "metadata": {},
     "output_type": "execute_result"
    }
   ],
   "source": [
    "# Nothing will show because we have no tasks in our pipeline\n",
    "example_pipeline.show()"
   ]
  },
  {
   "cell_type": "code",
   "execution_count": 3,
   "metadata": {},
   "outputs": [],
   "source": [
    "# Nothing will run because we have no tasks in our pipeline\n",
    "example_pipeline.run()"
   ]
  },
  {
   "cell_type": "markdown",
   "metadata": {},
   "source": [
    "## Adding tasks to a pipeline\n",
    "\n",
    "A `task` in a pipeline consists of 5 components:\n",
    "* name: the name of the task\n",
    "* action: the action the task runs (see below)\n",
    "* parameters: the parameters the action requires\n",
    "* depends_on: list of dependent tasks\n",
    "* src: path to the src code for the action\n",
    "\n",
    "Of these 5 components, when using the `pipeline` object, you only have to provide __name, action, and parameters__.\n",
    "\n",
    "To create a `task`, we will first need to create an `action`."
   ]
  },
  {
   "cell_type": "markdown",
   "metadata": {},
   "source": [
    "## Defining a new action\n",
    "\n",
    "In algo features, `actions` are just python functions. \n",
    "\n",
    "To define a new action, create a python function in any module. \n",
    "\n",
    "Here we will define the function in this notebook and then write it to a module. Typically, you would import a function from an existing module.\n",
    "\n",
    "Defining actions in notebooks is not currently supported."
   ]
  },
  {
   "cell_type": "code",
   "execution_count": 4,
   "metadata": {},
   "outputs": [],
   "source": [
    "# example action\n",
    "def hello(name: str) -> None:\n",
    "    print(f'hello {name}!')"
   ]
  },
  {
   "cell_type": "markdown",
   "metadata": {},
   "source": [
    "## Using actions in tasks\n",
    "\n",
    "Suppose we want to build a pipeline that runs the `action` `hello` with the input `name='Peacock'` and afterwards run the `action` `hello` again with the input `name='World'`.\n",
    "\n",
    "In a script, it may look something like this:"
   ]
  },
  {
   "cell_type": "code",
   "execution_count": 5,
   "metadata": {},
   "outputs": [
    {
     "name": "stderr",
     "output_type": "stream",
     "text": [
      "/Users/a206691930/Documents/GitHub/src-algo-features/.venv/lib/python3.10/site-packages/google/auth/_default.py:76: UserWarning: Your application has authenticated using end user credentials from Google Cloud SDK without a quota project. You might receive a \"quota exceeded\" or \"API not enabled\" error. See the following page for troubleshooting: https://cloud.google.com/docs/authentication/adc-troubleshooting/user-creds. \n",
      "  warnings.warn(_CLOUD_SDK_CREDENTIALS_WARNING)\n"
     ]
    },
    {
     "name": "stdout",
     "output_type": "stream",
     "text": [
      "hello Peacock!\n",
      "hello World!\n"
     ]
    }
   ],
   "source": [
    "from src.actions import actions\n",
    "\n",
    "actions.hello(name='Peacock')\n",
    "actions.hello(name='World')\n"
   ]
  },
  {
   "cell_type": "markdown",
   "metadata": {},
   "source": [
    "To add the first `action` to our `pipeline`, we convert it to a `task` using the `add_task()` method. "
   ]
  },
  {
   "cell_type": "code",
   "execution_count": 6,
   "metadata": {},
   "outputs": [
    {
     "data": {
      "text/html": [
       "\n",
       "        <div class=\"mermaid-803f30c3-022d-4645-b6bf-881df9368368\"></div>\n",
       "        <script type=\"module\">\n",
       "            import mermaid from 'https://cdn.jsdelivr.net/npm/mermaid@10.1.0/+esm'\n",
       "            const graphDefinition = '---\\ntitle: example_pipeline\\n---\\ngraph LR\\nhello_peacock\\n';\n",
       "            const element = document.querySelector('.mermaid-803f30c3-022d-4645-b6bf-881df9368368');\n",
       "            const { svg } = await mermaid.render('graphDiv-803f30c3-022d-4645-b6bf-881df9368368', graphDefinition);\n",
       "            element.innerHTML = svg;\n",
       "        </script>\n",
       "        "
      ],
      "text/plain": [
       "<src.pipelines.utils.RenderMermaid at 0x131175d50>"
      ]
     },
     "execution_count": 6,
     "metadata": {},
     "output_type": "execute_result"
    }
   ],
   "source": [
    "example_pipeline = pipeline.Pipeline(name='example_pipeline')\n",
    "\n",
    "example_pipeline.add_task(\n",
    "    name='hello_peacock', action=actions.hello, parameters={'name': 'Peacock'}\n",
    ")\n",
    "\n",
    "# When we show our pipeline, it now has one node.\n",
    "example_pipeline.show()\n"
   ]
  },
  {
   "cell_type": "code",
   "execution_count": 7,
   "metadata": {},
   "outputs": [
    {
     "name": "stdout",
     "output_type": "stream",
     "text": [
      "hello Peacock!\n"
     ]
    }
   ],
   "source": [
    "# When we run our pipeline, it says \"hello Peacock!\"\n",
    "example_pipeline.run()"
   ]
  },
  {
   "cell_type": "markdown",
   "metadata": {},
   "source": [
    "To add the second `task` to our `pipeline`, we use the same method but include the `after='hello_peacock'` parameter to set this `task` after our previous task. \n",
    "\n",
    "__Note:__ there is also a parameter for `before` if you want to add a `task` before another."
   ]
  },
  {
   "cell_type": "code",
   "execution_count": 8,
   "metadata": {},
   "outputs": [
    {
     "data": {
      "text/html": [
       "\n",
       "        <div class=\"mermaid-cead2650-8215-44c7-9ec7-b13ff6cb8257\"></div>\n",
       "        <script type=\"module\">\n",
       "            import mermaid from 'https://cdn.jsdelivr.net/npm/mermaid@10.1.0/+esm'\n",
       "            const graphDefinition = '---\\ntitle: example_pipeline\\n---\\ngraph LR\\nhello_peacock ---> hello_world\\n';\n",
       "            const element = document.querySelector('.mermaid-cead2650-8215-44c7-9ec7-b13ff6cb8257');\n",
       "            const { svg } = await mermaid.render('graphDiv-cead2650-8215-44c7-9ec7-b13ff6cb8257', graphDefinition);\n",
       "            element.innerHTML = svg;\n",
       "        </script>\n",
       "        "
      ],
      "text/plain": [
       "<src.pipelines.utils.RenderMermaid at 0x1311757e0>"
      ]
     },
     "execution_count": 8,
     "metadata": {},
     "output_type": "execute_result"
    }
   ],
   "source": [
    "example_pipeline = pipeline.Pipeline(name='example_pipeline')\n",
    "\n",
    "example_pipeline.add_task(\n",
    "    name='hello_peacock', action=actions.hello, parameters={'name': 'Peacock'}\n",
    ")\n",
    "example_pipeline.add_task(\n",
    "    name='hello_world',\n",
    "    action=actions.hello,\n",
    "    parameters={'name': 'World'},\n",
    "    after='hello_peacock',\n",
    ")\n",
    "\n",
    "# When we show our pipeline, it now has two nodes.\n",
    "example_pipeline.show()"
   ]
  },
  {
   "cell_type": "code",
   "execution_count": 9,
   "metadata": {},
   "outputs": [
    {
     "name": "stdout",
     "output_type": "stream",
     "text": [
      "hello Peacock!\n",
      "hello World!\n"
     ]
    }
   ],
   "source": [
    "example_pipeline.run()"
   ]
  },
  {
   "cell_type": "markdown",
   "metadata": {},
   "source": [
    "## Compiling your pipeline\n",
    "\n",
    "The true value in the `pipelines` library comes from the ability to compile `pipelines` to different languages or platform specific code.\n",
    "\n",
    "To see all adapters we currently support, see `src.pipelines.adapters.Adapters`.\n",
    "\n",
    "For example, we store all `pipelines` in algo features in yaml. To compile a `pipeline` to yaml, you can use the `YAML` compiler."
   ]
  },
  {
   "cell_type": "markdown",
   "metadata": {},
   "source": [
    "### Compiling to yaml"
   ]
  },
  {
   "cell_type": "code",
   "execution_count": 10,
   "metadata": {},
   "outputs": [
    {
     "name": "stdout",
     "output_type": "stream",
     "text": [
      "port: pipeline\n",
      "name: example_pipeline\n",
      "trigger: null\n",
      "tasks:\n",
      "- name: hello_peacock\n",
      "  src: /Users/a206691930/Documents/GitHub/src-algo-features/src/actions\n",
      "  action: hello\n",
      "  parameters:\n",
      "    name: Peacock\n",
      "  depends_on: []\n",
      "- name: hello_world\n",
      "  src: /Users/a206691930/Documents/GitHub/src-algo-features/src/actions\n",
      "  action: hello\n",
      "  parameters:\n",
      "    name: World\n",
      "  depends_on:\n",
      "  - hello_peacock\n",
      "\n"
     ]
    }
   ],
   "source": [
    "from src.pipelines import adapters\n",
    "\n",
    "yaml = example_pipeline.compile(adapter=adapters.Adapters.YAML)\n",
    "print(yaml)"
   ]
  },
  {
   "cell_type": "markdown",
   "metadata": {},
   "source": [
    "### Decompiling from yaml\n",
    "Our yaml compiler also supports decompiling back into a pipeline.\n"
   ]
  },
  {
   "cell_type": "code",
   "execution_count": 11,
   "metadata": {},
   "outputs": [
    {
     "data": {
      "text/html": [
       "\n",
       "        <div class=\"mermaid-ce9a69bd-1acb-43e6-b8d3-1d3f20a2f9d7\"></div>\n",
       "        <script type=\"module\">\n",
       "            import mermaid from 'https://cdn.jsdelivr.net/npm/mermaid@10.1.0/+esm'\n",
       "            const graphDefinition = '---\\ntitle: example_pipeline\\n---\\ngraph LR\\nhello_peacock ---> hello_world\\n';\n",
       "            const element = document.querySelector('.mermaid-ce9a69bd-1acb-43e6-b8d3-1d3f20a2f9d7');\n",
       "            const { svg } = await mermaid.render('graphDiv-ce9a69bd-1acb-43e6-b8d3-1d3f20a2f9d7', graphDefinition);\n",
       "            element.innerHTML = svg;\n",
       "        </script>\n",
       "        "
      ],
      "text/plain": [
       "<src.pipelines.utils.RenderMermaid at 0x1311bfbb0>"
      ]
     },
     "execution_count": 11,
     "metadata": {},
     "output_type": "execute_result"
    }
   ],
   "source": [
    "decompiled_example = pipeline.Pipeline.decompile(artifact=yaml, adapter=adapters.Adapters.YAML)\n",
    "decompiled_example.show()"
   ]
  },
  {
   "cell_type": "code",
   "execution_count": 12,
   "metadata": {},
   "outputs": [
    {
     "name": "stdout",
     "output_type": "stream",
     "text": [
      "hello Peacock!\n",
      "hello World!\n"
     ]
    }
   ],
   "source": [
    "decompiled_example.run()"
   ]
  },
  {
   "cell_type": "code",
   "execution_count": 13,
   "metadata": {},
   "outputs": [
    {
     "data": {
      "text/plain": [
       "True"
      ]
     },
     "execution_count": 13,
     "metadata": {},
     "output_type": "execute_result"
    }
   ],
   "source": [
    "example_pipeline == decompiled_example"
   ]
  },
  {
   "cell_type": "markdown",
   "metadata": {},
   "source": [
    "## Add a schedule to the pipeline\n",
    "\n",
    "You can add a cron schedule to your `pipeline` through adding a `trigger`"
   ]
  },
  {
   "cell_type": "code",
   "execution_count": 14,
   "metadata": {},
   "outputs": [],
   "source": [
    "from src.pipelines import trigger\n",
    "\n",
    "example_pipeline.trigger = trigger.CronTrigger(schedule='0 12 * * *', start_date='2024-01-01')"
   ]
  },
  {
   "cell_type": "markdown",
   "metadata": {},
   "source": [
    "## Compile to Airflow DAG\n",
    "\n",
    "You can also compile to many other platform specific code such as airflow, databricks, and mermaid."
   ]
  },
  {
   "cell_type": "code",
   "execution_count": 15,
   "metadata": {},
   "outputs": [
    {
     "name": "stdout",
     "output_type": "stream",
     "text": [
      "import functools\n",
      "import json\n",
      "from datetime import timedelta\n",
      "from typing import Any\n",
      "\n",
      "from airflow import models\n",
      "from airflow.models import variable\n",
      "from airflow.providers.google.cloud.operators import kubernetes_engine\n",
      "from airflow.providers.slack.hooks.slack_webhook import SlackWebhookHook\n",
      "from airflow.utils import task_group\n",
      "from dateutil import parser\n",
      "import shlex\n",
      "\n",
      "\n",
      "SLACK_WEBHOOK = SlackWebhookHook(slack_webhook_conn_id=\"slack_connection_id\")\n",
      "EMOJI_MAP: dict[str, str] = {\n",
      "    \"failed\": \"red-siren\",\n",
      "    \"up_for_retry\": \"warning\",\n",
      "    \"success\": \"check-green\",\n",
      "}\n",
      "\n",
      "\n",
      "\n",
      "def get_slack_alert_from_context(context: dict[str, models.TaskInstance]):\n",
      "    task_instance: models.TaskInstance = context['task_instance']\n",
      "    state: str = task_instance.state or ''\n",
      "    dag_id: str = task_instance.dag_id\n",
      "    log_url: str = task_instance.log_url\n",
      "    emoji: str = EMOJI_MAP[state]\n",
      "    SLACK_WEBHOOK.send(\n",
      "        text=f\":{emoji}: {dag_id} *{state.replace('_', ' ')}!*\\nLogs: {log_url}\",\n",
      "        blocks=[\n",
      "            {\n",
      "                'type': 'section',\n",
      "                'text': {\n",
      "                    'type': 'mrkdwn',\n",
      "                    'text': f\":{emoji}: <{log_url}|{dag_id}> *{state.replace('_', ' ')}!*\",\n",
      "                },\n",
      "            }\n",
      "        ],\n",
      "    )\n",
      "\n",
      "\n",
      "def sla_miss_callback(dag: models.DAG, *args):\n",
      "    SLACK_WEBHOOK.send(\n",
      "        text=f':warning: {dag.dag_id} *Exceeded an SLA!*',\n",
      "        blocks=[\n",
      "            {\n",
      "                'type': 'section',\n",
      "                'text': {\n",
      "                    'type': 'mrkdwn',\n",
      "                    'text': f':warning: {dag.dag_id} *Exceeded an SLA!*',\n",
      "                },\n",
      "            }\n",
      "        ],\n",
      "    )\n",
      "\n",
      "\n",
      "\n",
      "def get_operator(\n",
      "    task_id: str, action: str, parameters: dict[str, Any]\n",
      ") -> kubernetes_engine.GKEStartPodOperator:\n",
      "    return kubernetes_engine.GKEStartPodOperator(\n",
      "        task_id=task_id,\n",
      "        cmds=[\n",
      "            'python',\n",
      "            'src/actions/actions.py',\n",
      "            f'{action}',\n",
      "            '--parameters',\n",
      "            f'{json.dumps(obj=parameters)}',\n",
      "        ],\n",
      "        is_delete_operator_pod=True,\n",
      "        gcp_conn_id='gcp_conn',\n",
      "        use_internal_ip=True,\n",
      "        image_pull_policy='Always',\n",
      "        startup_timeout_seconds=1000,\n",
      "        get_logs=True,\n",
      "        log_events_on_failure=True,\n",
      "        retries=3,\n",
      "        retry_delay=timedelta(minutes=3),\n",
      "        sla=timedelta(hours=24),\n",
      "        on_failure_callback=get_slack_alert_from_context,\n",
      "        on_retry_callback=get_slack_alert_from_context,\n",
      "        env_vars={\n",
      "            'AIRFLOW_VAR_ALGO_PROJECT': variable.Variable.get(key='ALGO_PROJECT'),\n",
      "        },\n",
      "        project_id=variable.Variable.get(key='CLUSTER_PROJECT'),\n",
      "        cluster_name=variable.Variable.get(key='CLUSTER_NAME'),\n",
      "        location=variable.Variable.get(key='CLUSTER_LOCATION'),\n",
      "        namespace=variable.Variable.get(key='NAMESPACE'),\n",
      "        service_account_name='algo-features-sa',\n",
      "        name='algo-features',\n",
      "        image=f\"us-west2-docker.pkg.dev/res-nbcupea-mgmt-003/algo-docker/offline:{variable.Variable.get(key='TAG')}\",\n",
      "    )\n",
      "\n",
      "\n",
      "\n",
      "\n",
      "\n",
      "with models.DAG(\n",
      "\tdag_id='example_pipeline',\n",
      "\tstart_date=parser.parse('2024-01-01'),\n",
      "\tschedule_interval='0 12 * * *' or None,\n",
      "\tmax_active_runs=1,\n",
      "\tcatchup=False,\n",
      "\ton_success_callback=get_slack_alert_from_context,\n",
      "\taccess_control={'Algo_Engineer': {'can_edit', 'can_read'}, 'Consci_Engineer': {'can_edit', 'can_read'}},\n",
      "    sla_miss_callback=sla_miss_callback,\n",
      ") as dag:\n",
      "    hello_peacock = get_operator(\n",
      "        task_id='hello_peacock',\n",
      "        action='hello',\n",
      "        parameters={'name': 'Peacock'} | {'run_day': '{{ ds }}'},\n",
      "    )\n",
      "    hello_world = get_operator(\n",
      "        task_id='hello_world',\n",
      "        action='hello',\n",
      "        parameters={'name': 'World'} | {'run_day': '{{ ds }}'},\n",
      "    )\n",
      "    \n",
      "    \n",
      "    \n",
      "    hello_peacock >> hello_world\n",
      "\t\n",
      "\t\n"
     ]
    }
   ],
   "source": [
    "dag = example_pipeline.compile(adapter=adapters.Adapters.AIRFLOW)\n",
    "print(dag)"
   ]
  },
  {
   "cell_type": "markdown",
   "metadata": {},
   "source": [
    "## Compile to Mermaid"
   ]
  },
  {
   "cell_type": "code",
   "execution_count": 16,
   "metadata": {},
   "outputs": [
    {
     "name": "stdout",
     "output_type": "stream",
     "text": [
      "---\n",
      "title: example_pipeline\n",
      "---\n",
      "graph LR\n",
      "hello_peacock ---> hello_world\n",
      "\n"
     ]
    }
   ],
   "source": [
    "mermaid = example_pipeline.compile(adapter=adapters.Adapters.MERMAID)\n",
    "print(mermaid)"
   ]
  },
  {
   "cell_type": "markdown",
   "metadata": {},
   "source": [
    "## Saving and loading your pipeline to and from algo features\n",
    "\n",
    "When your pipeline is ready to go, you can save it in algo features using the `to_config()` method.\n",
    "\n",
    "You can use the inverse of this method, `from_config(name='example_pipeline')` to load any existing configs for running or editing."
   ]
  },
  {
   "cell_type": "code",
   "execution_count": 17,
   "metadata": {},
   "outputs": [],
   "source": [
    "example_pipeline.to_config()"
   ]
  },
  {
   "cell_type": "code",
   "execution_count": 18,
   "metadata": {},
   "outputs": [
    {
     "data": {
      "text/html": [
       "\n",
       "        <div class=\"mermaid-01c531ff-7ffe-4ce5-9837-0da353bc70ee\"></div>\n",
       "        <script type=\"module\">\n",
       "            import mermaid from 'https://cdn.jsdelivr.net/npm/mermaid@10.1.0/+esm'\n",
       "            const graphDefinition = '---\\ntitle: example_pipeline\\n---\\ngraph LR\\nhello_peacock ---> hello_world\\n';\n",
       "            const element = document.querySelector('.mermaid-01c531ff-7ffe-4ce5-9837-0da353bc70ee');\n",
       "            const { svg } = await mermaid.render('graphDiv-01c531ff-7ffe-4ce5-9837-0da353bc70ee', graphDefinition);\n",
       "            element.innerHTML = svg;\n",
       "        </script>\n",
       "        "
      ],
      "text/plain": [
       "<src.pipelines.utils.RenderMermaid at 0x1311bfc10>"
      ]
     },
     "execution_count": 18,
     "metadata": {},
     "output_type": "execute_result"
    }
   ],
   "source": [
    "example_pipeline_from_config = pipeline.Pipeline.from_config(name='example_pipeline')\n",
    "example_pipeline_from_config.show()"
   ]
  },
  {
   "cell_type": "code",
   "execution_count": 19,
   "metadata": {},
   "outputs": [
    {
     "name": "stdout",
     "output_type": "stream",
     "text": [
      "hello Peacock!\n",
      "hello World!\n"
     ]
    }
   ],
   "source": [
    "example_pipeline_from_config.run()"
   ]
  },
  {
   "cell_type": "code",
   "execution_count": 20,
   "metadata": {},
   "outputs": [
    {
     "data": {
      "text/plain": [
       "True"
      ]
     },
     "execution_count": 20,
     "metadata": {},
     "output_type": "execute_result"
    }
   ],
   "source": [
    "example_pipeline_from_config == example_pipeline"
   ]
  }
 ],
 "metadata": {
  "kernelspec": {
   "display_name": ".venv",
   "language": "python",
   "name": "python3"
  },
  "language_info": {
   "codemirror_mode": {
    "name": "ipython",
    "version": 3
   },
   "file_extension": ".py",
   "mimetype": "text/x-python",
   "name": "python",
   "nbconvert_exporter": "python",
   "pygments_lexer": "ipython3",
   "version": "3.10.0"
  }
 },
 "nbformat": 4,
 "nbformat_minor": 2
}
