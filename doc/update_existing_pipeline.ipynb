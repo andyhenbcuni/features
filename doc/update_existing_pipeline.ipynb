{
 "cells": [
  {
   "cell_type": "markdown",
   "metadata": {},
   "source": [
    "# Updating an existing pipeline"
   ]
  },
  {
   "cell_type": "markdown",
   "metadata": {},
   "source": [
    "## Loading the pipeline\n",
    "\n",
    "To load the pipeline, use the `from_config()` method and supply the name of the config you want to load.\n",
    "\n",
    "Here we will use `user_features_v2` as an example."
   ]
  },
  {
   "cell_type": "code",
   "execution_count": 1,
   "metadata": {},
   "outputs": [
    {
     "name": "stderr",
     "output_type": "stream",
     "text": [
      "/Users/a206691930/Documents/GitHub/src-algo-features/.venv/lib/python3.10/site-packages/google/auth/_default.py:76: UserWarning: Your application has authenticated using end user credentials from Google Cloud SDK without a quota project. You might receive a \"quota exceeded\" or \"API not enabled\" error. See the following page for troubleshooting: https://cloud.google.com/docs/authentication/adc-troubleshooting/user-creds. \n",
      "  warnings.warn(_CLOUD_SDK_CREDENTIALS_WARNING)\n"
     ]
    }
   ],
   "source": [
    "from src.pipelines import pipeline\n",
    "\n",
    "loaded_pipeline = pipeline.Pipeline.from_config(name='user_features_v2')"
   ]
  },
  {
   "cell_type": "code",
   "execution_count": 2,
   "metadata": {},
   "outputs": [
    {
     "data": {
      "text/html": [
       "\n",
       "        <div class=\"mermaid-1d8a78d4-d3b2-4e07-a4a5-828e3d2e47c2\"></div>\n",
       "        <script type=\"module\">\n",
       "            import mermaid from 'https://cdn.jsdelivr.net/npm/mermaid@10.1.0/+esm'\n",
       "            const graphDefinition = '---\\ntitle: user_features_v2\\n---\\ngraph LR\\nsilver_user ---> silver_user_daily_rollup_v2\\nsilver_user ---> trial_features_v2\\nsilver_user_daily_rollup_v2 ---> user_features_v2\\nsilver_video ---> silver_video_daily_rollup_v2\\nsilver_video_all_time_rollup_v2 ---> user_features_v2\\nsilver_video_daily_rollup_agg_v2 ---> user_features_v2\\nsilver_video_daily_rollup_v2 ---> silver_video_all_time_rollup_v2\\nsilver_video_daily_rollup_v2 ---> silver_video_daily_rollup_agg_v2\\nsilver_video_daily_rollup_v2 ---> user_features_v2\\ntrial_features_v2 ---> user_features_v2\\n';\n",
       "            const element = document.querySelector('.mermaid-1d8a78d4-d3b2-4e07-a4a5-828e3d2e47c2');\n",
       "            const { svg } = await mermaid.render('graphDiv-1d8a78d4-d3b2-4e07-a4a5-828e3d2e47c2', graphDefinition);\n",
       "            element.innerHTML = svg;\n",
       "        </script>\n",
       "        "
      ],
      "text/plain": [
       "<src.pipelines.utils.RenderMermaid at 0x103d32fe0>"
      ]
     },
     "execution_count": 2,
     "metadata": {},
     "output_type": "execute_result"
    }
   ],
   "source": [
    "loaded_pipeline.show()"
   ]
  },
  {
   "cell_type": "markdown",
   "metadata": {},
   "source": [
    "## Add or modify tasks \n",
    "\n",
    "Use `add_task()`  and `remove_task()` to add, modify or remove tasks."
   ]
  },
  {
   "cell_type": "markdown",
   "metadata": {},
   "source": [
    "## Save pipeline"
   ]
  },
  {
   "cell_type": "code",
   "execution_count": null,
   "metadata": {},
   "outputs": [],
   "source": [
    "loaded_pipeline.to_config()"
   ]
  },
  {
   "cell_type": "markdown",
   "metadata": {},
   "source": [
    "## Modifying SQL \n",
    "\n",
    "If your pipeline requires new sql files, remember to add them to `src/configs/<your_config_name>/sql` and save them as `<your_pipeline_name>.jinja2.sql`"
   ]
  }
 ],
 "metadata": {
  "kernelspec": {
   "display_name": ".venv",
   "language": "python",
   "name": "python3"
  },
  "language_info": {
   "codemirror_mode": {
    "name": "ipython",
    "version": 3
   },
   "file_extension": ".py",
   "mimetype": "text/x-python",
   "name": "python",
   "nbconvert_exporter": "python",
   "pygments_lexer": "ipython3",
   "version": "3.10.0"
  }
 },
 "nbformat": 4,
 "nbformat_minor": 2
}
